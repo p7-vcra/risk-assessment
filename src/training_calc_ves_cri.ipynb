{
 "cells": [
  {
   "cell_type": "code",
   "execution_count": 10,
   "metadata": {},
   "outputs": [],
   "source": [
    "import numpy as np\n",
    "import pandas as pd\n",
    "import geopandas as gpd\n",
    "from loguru import logger\n",
    "\n",
    "from utils.cri import calc_cpa, calc_cri"
   ]
  },
  {
   "cell_type": "code",
   "execution_count": 11,
   "metadata": {},
   "outputs": [
    {
     "data": {
      "text/plain": [
       "3"
      ]
     },
     "execution_count": 11,
     "metadata": {},
     "output_type": "execute_result"
    }
   ],
   "source": [
    "logger.add(\"../logs/risk-assessment-{time:YYYYMMDD}.log\", rotation=\"00:00\")"
   ]
  },
  {
   "cell_type": "code",
   "execution_count": 12,
   "metadata": {},
   "outputs": [
    {
     "name": "stderr",
     "output_type": "stream",
     "text": [
      "\u001b[32m2024-11-20 13:03:56.486\u001b[0m | \u001b[1mINFO    \u001b[0m | \u001b[36m__main__\u001b[0m:\u001b[36m<module>\u001b[0m:\u001b[36m3\u001b[0m - \u001b[1mReading data from ../data/sample_rows.csv\u001b[0m\n"
     ]
    }
   ],
   "source": [
    "DATA_PATH = \"../data/sample_rows.csv\"\n",
    "\n",
    "logger.info(\"Reading data from {}\", DATA_PATH)\n",
    "data = pd.read_csv(DATA_PATH)"
   ]
  },
  {
   "cell_type": "code",
   "execution_count": 13,
   "metadata": {},
   "outputs": [
    {
     "name": "stderr",
     "output_type": "stream",
     "text": [
      "\u001b[32m2024-11-20 13:03:56.501\u001b[0m | \u001b[1mINFO    \u001b[0m | \u001b[36m__main__\u001b[0m:\u001b[36m<module>\u001b[0m:\u001b[36m7\u001b[0m - \u001b[1mCalculating CPA for vessel_1: 246447000 and vessel_2: 477035800...\u001b[0m\n",
      "\u001b[32m2024-11-20 13:03:56.503\u001b[0m | \u001b[1mINFO    \u001b[0m | \u001b[36m__main__\u001b[0m:\u001b[36m<module>\u001b[0m:\u001b[36m26\u001b[0m - \u001b[1mCalculated CRI: 0.8452304724406478\u001b[0m\n",
      "\u001b[32m2024-11-20 13:03:56.504\u001b[0m | \u001b[1mINFO    \u001b[0m | \u001b[36m__main__\u001b[0m:\u001b[36m<module>\u001b[0m:\u001b[36m7\u001b[0m - \u001b[1mCalculating CPA for vessel_1: 246447000 and vessel_2: 266465000...\u001b[0m\n",
      "\u001b[32m2024-11-20 13:03:56.505\u001b[0m | \u001b[1mINFO    \u001b[0m | \u001b[36m__main__\u001b[0m:\u001b[36m<module>\u001b[0m:\u001b[36m26\u001b[0m - \u001b[1mCalculated CRI: 0.870753726137985\u001b[0m\n",
      "\u001b[32m2024-11-20 13:03:56.510\u001b[0m | \u001b[1mINFO    \u001b[0m | \u001b[36m__main__\u001b[0m:\u001b[36m<module>\u001b[0m:\u001b[36m38\u001b[0m - \u001b[1mUpdated data with CRI and CPA values saved to ../data/training_data.csv\u001b[0m\n"
     ]
    }
   ],
   "source": [
    "cri_values = []  # List to store CRI values\n",
    "euclidean_distance = []  # List for euclidean_distance\n",
    "rel_movement_direction = []  # List for rel_movement_direction\n",
    "azimuth_target_to_own = []  # List for azimuth_target_to_own\n",
    "\n",
    "for idx, row in data.iterrows():\n",
    "    logger.info(f\"Calculating CPA for vessel_1: {row['vessel_1']} and vessel_2: {row['vessel_2']}...\")\n",
    "    cpa = calc_cpa(row)\n",
    "\n",
    "    # Extract CPA-related data\n",
    "    euclidean_distance.append(cpa[\"euclidian_dist\"][0][0])\n",
    "    rel_movement_direction.append(cpa[\"rel_movement_direction\"])\n",
    "    azimuth_target_to_own.append(cpa[\"azimuth_target_to_own\"])\n",
    "\n",
    "    # Calculate CRI\n",
    "    cri = calc_cri(\n",
    "        row,\n",
    "        cpa[\"euclidian_dist\"],\n",
    "        cpa[\"rel_movement_direction\"],\n",
    "        cpa[\"azimuth_target_to_own\"],\n",
    "        cpa[\"rel_bearing\"],\n",
    "        cpa[\"dcpa\"],\n",
    "        cpa[\"tcpa\"],\n",
    "        cpa[\"rel_speed_mag\"],\n",
    "    )\n",
    "    logger.info(f\"Calculated CRI: {cri}\")\n",
    "    cri_values.append(cri)\n",
    "\n",
    "# Add the collected data to the DataFrame\n",
    "data['euclidean_distance'] = euclidean_distance\n",
    "data['rel_movement_direction'] = rel_movement_direction\n",
    "data['azimuth_target_to_own'] = azimuth_target_to_own\n",
    "data['ves_cri'] = cri_values\n",
    "\n",
    "# Save the updated DataFrame to a CSV file\n",
    "output_file = '../data/training_data.csv'  # Specify the output file path\n",
    "data.to_csv(output_file, index=False)\n",
    "logger.info(f\"Updated data with CRI and CPA values saved to {output_file}\")"
   ]
  }
 ],
 "metadata": {
  "kernelspec": {
   "display_name": "venv",
   "language": "python",
   "name": "python3"
  },
  "language_info": {
   "codemirror_mode": {
    "name": "ipython",
    "version": 3
   },
   "file_extension": ".py",
   "mimetype": "text/x-python",
   "name": "python",
   "nbconvert_exporter": "python",
   "pygments_lexer": "ipython3",
   "version": "3.10.12"
  }
 },
 "nbformat": 4,
 "nbformat_minor": 2
}
