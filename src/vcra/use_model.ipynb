{
 "cells": [
  {
   "cell_type": "code",
   "execution_count": 11,
   "metadata": {},
   "outputs": [],
   "source": [
    "import pandas as pd\n",
    "import numpy as np"
   ]
  },
  {
   "cell_type": "code",
   "execution_count": 12,
   "metadata": {},
   "outputs": [
    {
     "name": "stdout",
     "output_type": "stream",
     "text": [
      "                                            instance  \\\n",
      "0  (StandardScaler(), MLPRegressor(early_stopping...   \n",
      "1  (StandardScaler(), MLPRegressor(early_stopping...   \n",
      "2  (StandardScaler(), MLPRegressor(early_stopping...   \n",
      "3  (StandardScaler(), MLPRegressor(early_stopping...   \n",
      "4  (StandardScaler(), MLPRegressor(early_stopping...   \n",
      "\n",
      "                                       train_indices  \\\n",
      "0  [0, 1, 2, 3, 4, 5, 6, 8, 9, 10, 11, 12, 13, 14...   \n",
      "1  [1, 2, 3, 6, 7, 8, 9, 10, 11, 12, 13, 14, 16, ...   \n",
      "2  [0, 3, 4, 5, 6, 7, 8, 9, 10, 11, 12, 13, 14, 1...   \n",
      "3  [0, 1, 2, 4, 5, 7, 9, 11, 13, 14, 15, 16, 17, ...   \n",
      "4  [0, 1, 2, 3, 4, 5, 6, 7, 8, 10, 12, 15, 16, 17...   \n",
      "\n",
      "                                        test_indices  \\\n",
      "0  [7, 19, 20, 21, 27, 32, 37, 40, 43, 46, 47, 52...   \n",
      "1  [0, 4, 5, 15, 17, 24, 33, 42, 51, 61, 63, 91, ...   \n",
      "2  [1, 2, 16, 23, 28, 29, 35, 41, 45, 49, 50, 56,...   \n",
      "3  [3, 6, 8, 10, 12, 22, 26, 31, 34, 39, 48, 55, ...   \n",
      "4  [9, 11, 13, 14, 18, 25, 30, 36, 38, 44, 54, 58...   \n",
      "\n",
      "                                              y_true  \\\n",
      "0  [0.0, 0.906991241438185, 0.8258250557062242, 0...   \n",
      "1  [0.8555855131769577, 0.0, 0.8668748927523648, ...   \n",
      "2  [0.0, 0.0, 0.0, 0.8951420452803269, 0.83850468...   \n",
      "3  [0.8438491394247147, 0.0, 0.8420877396175462, ...   \n",
      "4  [0.8639013457830517, 0.0, 0.8674962928561096, ...   \n",
      "\n",
      "                                              y_pred       acc       mae  \\\n",
      "0  [0.00039637979814884094, 0.899041179201666, 0....  0.969003  0.029198   \n",
      "1  [0.8502380210684793, 0.001308674294665052, 0.7...  0.971830  0.024312   \n",
      "2  [0.0, 0.02242524397726535, 0.00158646385801498...  0.973201  0.026399   \n",
      "3  [0.8482619451068847, 0.0, 0.8193947706459932, ...  0.974461  0.021710   \n",
      "4  [0.8555438672796525, 0.0, 0.8477874530357823, ...  0.967199  0.034160   \n",
      "\n",
      "       rmse     rmsle  \n",
      "0  0.076112  0.052719  \n",
      "1  0.072586  0.053899  \n",
      "2  0.070704  0.053100  \n",
      "3  0.069050  0.050176  \n",
      "4  0.078074  0.054871  \n"
     ]
    }
   ],
   "source": [
    "# Load the DataFrame\n",
    "df = pd.read_pickle('../../data/mlp_vcra_skf_results_v14.trained_on_all_data.pickle')\n",
    "\n",
    "print(df)\n"
   ]
  },
  {
   "cell_type": "code",
   "execution_count": 13,
   "metadata": {},
   "outputs": [
    {
     "name": "stdout",
     "output_type": "stream",
     "text": [
      "MMSI_v1: 246447000 Predicted VCRA: 0\n",
      "MMSI_v1: 246447000 Predicted VCRA: 0.05481154578528706\n",
      "MMSI_v1: 219001275 Predicted VCRA: 0.9562896495830732\n",
      "MMSI_v1: 246140000 Predicted VCRA: 0.8807184027721977\n",
      "MMSI_v1: 219014161 Predicted VCRA: 0.8640196487794279\n",
      "MMSI_v1: 255805882 Predicted VCRA: 0.8519797440455333\n",
      "MMSI_v1: 211286440 Predicted VCRA: 0.9185004040195771\n",
      "MMSI_v1: 255805906 Predicted VCRA: 0.8501371374510156\n",
      "MMSI_v1: 209864000 Predicted VCRA: 0.8639521079864335\n",
      "MMSI_v1: 230187320 Predicted VCRA: 0.8887032686200669\n",
      "MMSI_v1: 210359000 Predicted VCRA: 0.0028148041290329134\n"
     ]
    }
   ],
   "source": [
    "vcra_model = df.xs(0)['instance']\n",
    "\n",
    "data = pd.read_csv('../../data/training_aisdk_sf.csv')\n",
    "\n",
    "for idx, row in data.iterrows():\n",
    "    vcra_input = np.array(\n",
    "            [row['vessel_1_speed'], row['vessel_1_course'], row['vessel_2_speed'], row['vessel_2_course'], row['euclidian_dist'], row['azimuth_target_to_own'], row['rel_movement_direction']]\n",
    "        ).reshape(1, -1)\n",
    "\n",
    "    vcra_model.predict(vcra_input)\n",
    "    print(f\"MMSI_v1: {row['vessel_1']} Predicted VCRA: {max(0, min(1, vcra_model.predict(vcra_input)[0]))}\")\n",
    "\n",
    "\n"
   ]
  }
 ],
 "metadata": {
  "kernelspec": {
   "display_name": "venv",
   "language": "python",
   "name": "python3"
  },
  "language_info": {
   "codemirror_mode": {
    "name": "ipython",
    "version": 3
   },
   "file_extension": ".py",
   "mimetype": "text/x-python",
   "name": "python",
   "nbconvert_exporter": "python",
   "pygments_lexer": "ipython3",
   "version": "3.10.12"
  }
 },
 "nbformat": 4,
 "nbformat_minor": 2
}
