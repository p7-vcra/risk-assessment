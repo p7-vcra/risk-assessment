{
 "cells": [
  {
   "cell_type": "code",
   "execution_count": 1,
   "metadata": {},
   "outputs": [],
   "source": [
    "import pandas as pd\n",
    "import numpy as np"
   ]
  },
  {
   "cell_type": "code",
   "execution_count": 2,
   "metadata": {},
   "outputs": [
    {
     "name": "stdout",
     "output_type": "stream",
     "text": [
      "                                            instance  \\\n",
      "0  (StandardScaler(), MLPRegressor(early_stopping...   \n",
      "1  (StandardScaler(), MLPRegressor(early_stopping...   \n",
      "2  (StandardScaler(), MLPRegressor(early_stopping...   \n",
      "3  (StandardScaler(), MLPRegressor(early_stopping...   \n",
      "4  (StandardScaler(), MLPRegressor(early_stopping...   \n",
      "\n",
      "                                       train_indices  \\\n",
      "0  [0, 1, 3, 4, 6, 7, 8, 10, 11, 12, 13, 14, 15, ...   \n",
      "1  [0, 2, 3, 4, 5, 6, 7, 9, 10, 11, 12, 15, 16, 1...   \n",
      "2  [0, 1, 2, 4, 5, 6, 8, 9, 11, 12, 13, 14, 16, 1...   \n",
      "3  [1, 2, 3, 5, 7, 8, 9, 10, 13, 14, 15, 16, 17, ...   \n",
      "4  [0, 1, 2, 3, 4, 5, 6, 7, 8, 9, 10, 11, 12, 13,...   \n",
      "\n",
      "                                        test_indices  \\\n",
      "0  [2, 5, 9, 16, 20, 25, 27, 28, 40, 42, 45, 47, ...   \n",
      "1  [1, 8, 13, 14, 18, 22, 36, 48, 57, 78, 79, 85,...   \n",
      "2  [3, 7, 10, 15, 17, 26, 30, 31, 32, 38, 41, 44,...   \n",
      "3  [0, 4, 6, 11, 12, 21, 23, 24, 29, 33, 34, 37, ...   \n",
      "4  [19, 35, 43, 49, 51, 53, 55, 59, 63, 70, 72, 7...   \n",
      "\n",
      "                                              y_true  \\\n",
      "0  [0.0, 0.8668748927506934, 0.5758657710712577, ...   \n",
      "1  [0.0, 0.8420877396141428, 0.6219540917936248, ...   \n",
      "2  [0.8438491394226968, 0.0, 0.0, 0.0, 0.0, 0.832...   \n",
      "3  [0.855585513174378, 0.0, 0.0, 0.0, 0.0, 0.0, 0...   \n",
      "4  [0.906991241437628, 0.0, 0.8252481890752835, 0...   \n",
      "\n",
      "                                              y_pred       acc       mae  \\\n",
      "0  [0.056019743197298764, 0.23756372798704606, 0....  0.965497  0.032617   \n",
      "1  [0.00891059868347599, 0.8787430302495114, 0.67...  0.970754  0.028576   \n",
      "2  [0.8309105820117922, 0.0013290856517109901, 0....  0.973330  0.025932   \n",
      "3  [0.8526366535012871, 0.0, 0.0, 0.0, 0.33808005...  0.973548  0.023582   \n",
      "4  [0.8819959805872726, 0.0, 0.8317271232672907, ...  0.975027  0.025029   \n",
      "\n",
      "       rmse     rmsle  \n",
      "0  0.076785  0.054208  \n",
      "1  0.072812  0.052153  \n",
      "2  0.069432  0.048856  \n",
      "3  0.069354  0.049302  \n",
      "4  0.067271  0.048502  \n"
     ]
    }
   ],
   "source": [
    "# Load the DataFrame\n",
    "df = pd.read_pickle(\"../../data/mlp_vcra_skf_results_v14.trained_on_all_data.pickle\")\n",
    "\n",
    "print(df)"
   ]
  },
  {
   "cell_type": "code",
   "execution_count": 3,
   "metadata": {},
   "outputs": [
    {
     "name": "stdout",
     "output_type": "stream",
     "text": [
      "MMSI_v1: 246447000 Predicted VCRA: 0.005753789271655978\n",
      "MMSI_v1: 246447000 Predicted VCRA: 0\n",
      "MMSI_v1: 219001275 Predicted VCRA: 0.8583410955499787\n",
      "MMSI_v1: 246140000 Predicted VCRA: 0.8596111322413041\n",
      "MMSI_v1: 219014161 Predicted VCRA: 0.7977939015464208\n",
      "MMSI_v1: 255805882 Predicted VCRA: 0.8333215739091765\n",
      "MMSI_v1: 211286440 Predicted VCRA: 0.8856885224320619\n",
      "MMSI_v1: 255805906 Predicted VCRA: 0.8260691571654307\n",
      "MMSI_v1: 209864000 Predicted VCRA: 0.8726765980814498\n",
      "MMSI_v1: 230187320 Predicted VCRA: 0.8359321636574367\n",
      "MMSI_v1: 210359000 Predicted VCRA: 0\n"
     ]
    }
   ],
   "source": [
    "vcra_model = df.xs(0)[\"instance\"]\n",
    "\n",
    "data = pd.read_csv(\"../../data/training_aisdk_sf.csv\")\n",
    "\n",
    "for idx, row in data.iterrows():\n",
    "    vcra_input = np.array(\n",
    "        [\n",
    "            row[\"vessel_1_speed\"],\n",
    "            row[\"vessel_1_course\"],\n",
    "            row[\"vessel_2_speed\"],\n",
    "            row[\"vessel_2_course\"],\n",
    "            row[\"euclidian_dist\"],\n",
    "            row[\"azimuth_target_to_own\"],\n",
    "            row[\"rel_movement_direction\"],\n",
    "        ]\n",
    "    ).reshape(1, -1)\n",
    "\n",
    "    vcra_model.predict(vcra_input)\n",
    "    print(\n",
    "        f\"MMSI_v1: {row['vessel_1']} Predicted VCRA: {max(0, min(1, vcra_model.predict(vcra_input)[0]))}\"\n",
    "    )"
   ]
  }
 ],
 "metadata": {
  "kernelspec": {
   "display_name": "venv",
   "language": "python",
   "name": "python3"
  },
  "language_info": {
   "codemirror_mode": {
    "name": "ipython",
    "version": 3
   },
   "file_extension": ".py",
   "mimetype": "text/x-python",
   "name": "python",
   "nbconvert_exporter": "python",
   "pygments_lexer": "ipython3",
   "version": "3.10.12"
  }
 },
 "nbformat": 4,
 "nbformat_minor": 2
}
