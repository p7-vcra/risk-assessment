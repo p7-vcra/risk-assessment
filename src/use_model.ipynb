{
 "cells": [
  {
   "cell_type": "code",
   "execution_count": 10,
   "metadata": {},
   "outputs": [],
   "source": [
    "import pandas as pd"
   ]
  },
  {
   "cell_type": "code",
   "execution_count": 11,
   "metadata": {},
   "outputs": [],
   "source": [
    "data = pd.read_feather('../data/mlp_vcra_skf_results_v14.feather')"
   ]
  },
  {
   "cell_type": "code",
   "execution_count": 12,
   "metadata": {},
   "outputs": [
    {
     "name": "stdout",
     "output_type": "stream",
     "text": [
      "         mae       rmse     rmsle\n",
      "0  49.684517  57.531105  3.278671\n",
      "1  48.099964  56.018700  2.821891\n",
      "2  46.954422  54.813381  2.439922\n",
      "3  44.887424  53.127533  2.080392\n",
      "4  43.575909  51.805630  1.784732\n"
     ]
    }
   ],
   "source": [
    "print(data)"
   ]
  },
  {
   "cell_type": "code",
   "execution_count": 15,
   "metadata": {},
   "outputs": [],
   "source": [
    "import torch\n",
    "from model import MLP\n",
    "from train import generate_sample_data"
   ]
  },
  {
   "cell_type": "code",
   "execution_count": null,
   "metadata": {},
   "outputs": [],
   "source": [
    "X_sub, y_sub, y_bin_sub = generate_sample_data(num_samples=10000)\n",
    "\n",
    "mlp_vcra_features = ['own_speed', 'own_course_rad', 'target_speed', 'target_course_rad', \n",
    "                         'dist_euclid', 'azimuth_angle_target_to_own', 'rel_movement_direction']\n",
    "X_data = X_sub.loc[:, mlp_vcra_features].values\n",
    "y_data = y_sub.values\n",
    "\n",
    "model = MLP(input_size=X_data.shape[1])\n",
    "checkpoint = torch.load('../checkpoints/5fold_10epoch_model_f5_e10_2683.8232.pt', weights_only=True)\n",
    "model.load_state_dict(checkpoint['model_state_dict'])\n",
    "\n",
    "model.eval()\n"
   ]
  },
  {
   "cell_type": "code",
   "execution_count": null,
   "metadata": {},
   "outputs": [],
   "source": []
  }
 ],
 "metadata": {
  "kernelspec": {
   "display_name": "venv",
   "language": "python",
   "name": "python3"
  },
  "language_info": {
   "codemirror_mode": {
    "name": "ipython",
    "version": 3
   },
   "file_extension": ".py",
   "mimetype": "text/x-python",
   "name": "python",
   "nbconvert_exporter": "python",
   "pygments_lexer": "ipython3",
   "version": "3.10.12"
  }
 },
 "nbformat": 4,
 "nbformat_minor": 2
}
