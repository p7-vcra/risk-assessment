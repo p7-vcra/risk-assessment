{
 "cells": [
  {
   "cell_type": "code",
   "execution_count": 1,
   "metadata": {},
   "outputs": [],
   "source": [
    "import pandas as pd\n",
    "import numpy as np\n"
   ]
  },
  {
   "cell_type": "code",
   "execution_count": null,
   "metadata": {},
   "outputs": [],
   "source": [
    "file_path = \"../../data/training_aisdk_2024-10-22_2024-11-24.feather\"\n",
    "data = pd.read_feather(file_path)\n",
    "\n",
    "# Ensure the 'cri' column exists\n",
    "if 'ves_cri' not in data.columns:\n",
    "    raise ValueError(\"The dataset does not contain a column named 'ves_cri'.\")\n",
    "\n",
    "# Check for invalid values in 'cri'\n",
    "if data['ves_cri'].isnull().any():\n",
    "    raise ValueError(\"The 'ves_cri' column contains NaN values. Please handle them before running this script.\")\n",
    "if not ((data['ves_cri'] >= 0) & (data['ves_cri'] <= 1)).all():\n",
    "    raise ValueError(\"The 'ves_cri' column contains values outside the range [0, 1].\")"
   ]
  },
  {
   "cell_type": "code",
   "execution_count": 8,
   "metadata": {},
   "outputs": [
    {
     "name": "stdout",
     "output_type": "stream",
     "text": [
      "Range\tCount\tPercentage\n",
      "0.0 - 0.1\t0\t0.0%\n",
      "0.1 - 0.2\t0\t0.0%\n",
      "0.2 - 0.3\t0\t0.0%\n",
      "0.3 - 0.4\t0\t0.0%\n",
      "0.4 - 0.5\t0\t0.0%\n",
      "0.5 - 0.6\t0\t0.0%\n",
      "0.6 - 0.7\t0\t0.0%\n",
      "0.7 - 0.8\t0\t0.0%\n",
      "0.8 - 0.9\t157248\t52.43%\n",
      "0.9 - 1.0\t142655\t47.57%\n"
     ]
    }
   ],
   "source": [
    "# Define bins and labels\n",
    "bins = np.arange(0, 1.1, 0.1)\n",
    "labels = [f\"{bins[i]:.1f} - {bins[i+1]:.1f}\" for i in range(len(bins)-1)]\n",
    "\n",
    "# Categorize 'cri' values into bins\n",
    "data['cri_range'] = pd.cut(data['ves_cri'], bins=bins, labels=labels, include_lowest=True)\n",
    "\n",
    "# Calculate counts and percentages\n",
    "counts = data['cri_range'].value_counts().sort_index()\n",
    "total_count = len(data)\n",
    "percentages = (counts / total_count * 100).round(2)\n",
    "\n",
    "# Print results\n",
    "print(\"Range\\tCount\\tPercentage\")\n",
    "for range_label, count, percentage in zip(counts.index, counts, percentages):\n",
    "    print(f\"{range_label}\\t{count}\\t{percentage}%\")"
   ]
  }
 ],
 "metadata": {
  "kernelspec": {
   "display_name": "venv",
   "language": "python",
   "name": "python3"
  },
  "language_info": {
   "codemirror_mode": {
    "name": "ipython",
    "version": 3
   },
   "file_extension": ".py",
   "mimetype": "text/x-python",
   "name": "python",
   "nbconvert_exporter": "python",
   "pygments_lexer": "ipython3",
   "version": "3.10.12"
  }
 },
 "nbformat": 4,
 "nbformat_minor": 2
}
