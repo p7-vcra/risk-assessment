{
 "cells": [
  {
   "cell_type": "code",
   "execution_count": 1,
   "metadata": {},
   "outputs": [],
   "source": [
    "import pandas as pd\n",
    "import numpy as np"
   ]
  },
  {
   "cell_type": "code",
   "execution_count": 19,
   "metadata": {},
   "outputs": [],
   "source": [
    "# Read the CSV file\n",
    "df = pd.read_csv(\"../../data/training_data_encounters/TC_aisdk-2024-10-22.csv\")\n",
    "\n",
    "# Define the threshold value as 2*PI\n",
    "threshold = 2 * np.pi"
   ]
  },
  {
   "cell_type": "code",
   "execution_count": 20,
   "metadata": {},
   "outputs": [
    {
     "name": "stdout",
     "output_type": "stream",
     "text": [
      "Number of times 'vessel_1_course' exceeds 6.28: 0\n",
      "Number of times 'vessel_2_course' exceeds 6.28: 0\n"
     ]
    }
   ],
   "source": [
    "# Check for values in 'vessel_1_course' that exceed the threshold\n",
    "vessel_1_exceed = df[df[\"vessel_1_course\"] >= threshold]\n",
    "\n",
    "# Check for values in 'vessel_2_course' that exceed the threshold\n",
    "vessel_2_exceed = df[df[\"vessel_2_course\"] >= threshold]\n",
    "\n",
    "# Print the number of times each column exceeds the threshold\n",
    "print(\n",
    "    f\"Number of times 'vessel_1_course' exceeds {threshold:.2f}: {len(vessel_1_exceed)}\"\n",
    ")\n",
    "print(\n",
    "    f\"Number of times 'vessel_2_course' exceeds {threshold:.2f}: {len(vessel_2_exceed)}\"\n",
    ")"
   ]
  },
  {
   "cell_type": "code",
   "execution_count": null,
   "metadata": {},
   "outputs": [],
   "source": [
    "# Print out the values that exceed the threshold\n",
    "if not vessel_1_exceed.empty:\n",
    "    print(\"\\nValues of 'vessel_1_course' that exceed the threshold:\")\n",
    "    print(vessel_1_exceed[[\"vessel_1_course\"]])\n",
    "\n",
    "if not vessel_2_exceed.empty:\n",
    "    print(\"\\nValues of 'vessel_2_course' that exceed the threshold:\")\n",
    "    print(vessel_2_exceed[[\"vessel_2_course\"]])"
   ]
  }
 ],
 "metadata": {
  "kernelspec": {
   "display_name": "venv",
   "language": "python",
   "name": "python3"
  },
  "language_info": {
   "codemirror_mode": {
    "name": "ipython",
    "version": 3
   },
   "file_extension": ".py",
   "mimetype": "text/x-python",
   "name": "python",
   "nbconvert_exporter": "python",
   "pygments_lexer": "ipython3",
   "version": "3.10.12"
  }
 },
 "nbformat": 4,
 "nbformat_minor": 2
}
